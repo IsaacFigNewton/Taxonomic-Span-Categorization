{
  "nbformat": 4,
  "nbformat_minor": 0,
  "metadata": {
    "colab": {
      "provenance": [],
      "collapsed_sections": [
        "pDSPJke00L-d"
      ],
      "authorship_tag": "ABX9TyPHvbRHnHqd1Mh1n3nwhisJ",
      "include_colab_link": true
    },
    "kernelspec": {
      "name": "python3",
      "display_name": "Python 3"
    },
    "language_info": {
      "name": "python"
    }
  },
  "cells": [
    {
      "cell_type": "markdown",
      "metadata": {
        "id": "view-in-github",
        "colab_type": "text"
      },
      "source": [
        "<a href=\"https://colab.research.google.com/github/IsaacFigNewton/Taxonomic-Span-Categorization/blob/main/Test_Taxonomic_NER.ipynb\" target=\"_parent\"><img src=\"https://colab.research.google.com/assets/colab-badge.svg\" alt=\"Open In Colab\"/></a>"
      ]
    },
    {
      "cell_type": "markdown",
      "source": [
        "# Install dependencies"
      ],
      "metadata": {
        "id": "pDSPJke00L-d"
      }
    },
    {
      "cell_type": "code",
      "execution_count": null,
      "metadata": {
        "id": "2Z8TdxXYzvN_"
      },
      "outputs": [],
      "source": [
        "!pip install git+https://github.com/IsaacFigNewton/Taxonomic-Span-Categorization.git"
      ]
    },
    {
      "cell_type": "markdown",
      "source": [
        "# Config"
      ],
      "metadata": {
        "id": "vVVU-ca50Rh3"
      }
    },
    {
      "cell_type": "code",
      "source": [
        "import json\n",
        "import spacy\n",
        "from spacy import displacy\n",
        "from tax_span_cat.SpanCategorizer import SpanCategorizer"
      ],
      "metadata": {
        "id": "I1vSlQ2kz6Zz"
      },
      "execution_count": null,
      "outputs": []
    },
    {
      "cell_type": "code",
      "source": [
        "nlp = spacy.load(\"en_core_web_sm\")\n",
        "ner = SpanCategorizer(taxonomic_features=[\"wordnet_synsets\"])"
      ],
      "metadata": {
        "id": "JnJVtTxu1tow"
      },
      "execution_count": null,
      "outputs": []
    },
    {
      "cell_type": "markdown",
      "source": [
        "# Test NER functionality"
      ],
      "metadata": {
        "id": "CisGZGIQOftr"
      }
    },
    {
      "cell_type": "code",
      "source": [
        "doc = nlp(\"In 1999, Tim Berners-Lee was one of the first to introduce the idea of the Semantic Web.\")\n",
        "ner_doc = ner(doc)\n",
        "ner_doc.ents"
      ],
      "metadata": {
        "id": "iQGaFX0X1ktb"
      },
      "execution_count": null,
      "outputs": []
    },
    {
      "cell_type": "code",
      "source": [
        "# TODO: find out why this breaks\n",
        "json.dumps(ner_doc.spans, indent=4, default=str)"
      ],
      "metadata": {
        "id": "niHbLyfbDQgH"
      },
      "execution_count": null,
      "outputs": []
    },
    {
      "cell_type": "code",
      "source": [
        "displacy.render(ner_doc, style=\"ent\", jupyter=True)"
      ],
      "metadata": {
        "id": "iNx8Zaau4X9b"
      },
      "execution_count": null,
      "outputs": []
    },
    {
      "cell_type": "code",
      "source": [],
      "metadata": {
        "id": "8N5zwuAYOHYL"
      },
      "execution_count": null,
      "outputs": []
    }
  ]
}